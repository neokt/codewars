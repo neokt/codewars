{
 "cells": [
  {
   "cell_type": "markdown",
   "metadata": {},
   "source": [
    "Codewars Challenge: [Format a string of names like 'Bart, Lisa & Maggie'](https://www.codewars.com/kata/format-a-string-of-names-like-bart-lisa-and-maggie/python)"
   ]
  },
  {
   "cell_type": "code",
   "execution_count": 47,
   "metadata": {
    "collapsed": false
   },
   "outputs": [],
   "source": [
    "# solution\n",
    "def namelist(names):\n",
    "    sentence = ''\n",
    "    l = len(names)\n",
    "    for i in xrange(l):\n",
    "        sentence += names[i]['name']\n",
    "        if i == l - 2:\n",
    "            sentence += ' & '\n",
    "        elif i < l - 2:\n",
    "            sentence += ', '\n",
    "    return sentence"
   ]
  }
 ],
 "metadata": {
  "kernelspec": {
   "display_name": "Python 2",
   "language": "python",
   "name": "python2"
  },
  "language_info": {
   "codemirror_mode": {
    "name": "ipython",
    "version": 2
   },
   "file_extension": ".py",
   "mimetype": "text/x-python",
   "name": "python",
   "nbconvert_exporter": "python",
   "pygments_lexer": "ipython2",
   "version": "2.7.11"
  }
 },
 "nbformat": 4,
 "nbformat_minor": 0
}
