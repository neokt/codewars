{
 "cells": [
  {
   "cell_type": "markdown",
   "metadata": {},
   "source": [
    "Codewars Challenge: [Multiplication Tables](https://www.codewars.com/kata/multiplication-tables/python)"
   ]
  },
  {
   "cell_type": "code",
   "execution_count": 84,
   "metadata": {
    "collapsed": false
   },
   "outputs": [],
   "source": [
    "# solution\n",
    "def multiplication_table(row,col):\n",
    "    l = []\n",
    "    for k in range(row):\n",
    "        l.append([(k + 1) * (v + 1) for v in range(col)])\n",
    "    return l"
   ]
  },
  {
   "cell_type": "code",
   "execution_count": 90,
   "metadata": {
    "collapsed": true
   },
   "outputs": [],
   "source": [
    "# alternative solution\n",
    "def multiplication_table(row,col):\n",
    "    return [[(k + 1) * (v + 1) for v in range(col)] for k in range(row)]"
   ]
  },
  {
   "cell_type": "code",
   "execution_count": 94,
   "metadata": {
    "collapsed": false
   },
   "outputs": [],
   "source": [
    "# solution with numpy arrays\n",
    "import numpy as np\n",
    "\n",
    "def multiplication_table(row,col):\n",
    "    l = []\n",
    "    for k in range(row):\n",
    "        for v in range(col):\n",
    "            l.append((k + 1) * (v + 1))\n",
    "    return np.array(l).reshape(row, col)"
   ]
  }
 ],
 "metadata": {
  "kernelspec": {
   "display_name": "Python 2",
   "language": "python",
   "name": "python2"
  },
  "language_info": {
   "codemirror_mode": {
    "name": "ipython",
    "version": 2
   },
   "file_extension": ".py",
   "mimetype": "text/x-python",
   "name": "python",
   "nbconvert_exporter": "python",
   "pygments_lexer": "ipython2",
   "version": "2.7.11"
  }
 },
 "nbformat": 4,
 "nbformat_minor": 0
}
