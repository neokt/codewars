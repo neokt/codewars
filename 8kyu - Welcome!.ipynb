{
 "cells": [
  {
   "cell_type": "markdown",
   "metadata": {},
   "source": [
    "Codewars Challenge: [Welcome!](https://www.codewars.com/kata/577ff15ad648a14b780000e7)"
   ]
  },
  {
   "cell_type": "code",
   "execution_count": 1,
   "metadata": {
    "collapsed": true
   },
   "outputs": [],
   "source": [
    "# solution\n",
    "d = {'english': 'Welcome',\n",
    "'czech': 'Vitejte',\n",
    "'danish': 'Velkomst',\n",
    "'dutch': 'Welkom',\n",
    "'estonian': 'Tere tulemast',\n",
    "'finnish': 'Tervetuloa',\n",
    "'flemish': 'Welgekomen',\n",
    "'french': 'Bienvenue',\n",
    "'german': 'Willkommen',\n",
    "'irish': 'Failte',\n",
    "'italian': 'Benvenuto',\n",
    "'latvian': 'Gaidits',\n",
    "'lithuanian': 'Laukiamas',\n",
    "'polish': 'Witamy',\n",
    "'spanish': 'Bienvenido',\n",
    "'swedish': 'Valkommen',\n",
    "'welsh': 'Croeso'}\n",
    "\n",
    "def greet(language):\n",
    "    if language in d:\n",
    "        return d[language]\n",
    "    else: \n",
    "        return d['english']"
   ]
  }
 ],
 "metadata": {
  "kernelspec": {
   "display_name": "Python 2",
   "language": "python",
   "name": "python2"
  },
  "language_info": {
   "codemirror_mode": {
    "name": "ipython",
    "version": 2
   },
   "file_extension": ".py",
   "mimetype": "text/x-python",
   "name": "python",
   "nbconvert_exporter": "python",
   "pygments_lexer": "ipython2",
   "version": "2.7.11"
  }
 },
 "nbformat": 4,
 "nbformat_minor": 0
}
