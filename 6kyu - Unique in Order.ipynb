{
 "cells": [
  {
   "cell_type": "markdown",
   "metadata": {},
   "source": [
    "Codewars Challenge: [Unique in Order](https://www.codewars.com/kata/unique-in-order/python)"
   ]
  },
  {
   "cell_type": "code",
   "execution_count": 22,
   "metadata": {
    "collapsed": false
   },
   "outputs": [],
   "source": [
    "# solution\n",
    "def unique_in_order(iterable):\n",
    "    l = [0]\n",
    "    for i in iterable:\n",
    "        if l[-1] != i:\n",
    "            l.append(i)\n",
    "    return l[1:]"
   ]
  },
  {
   "cell_type": "code",
   "execution_count": 73,
   "metadata": {
    "collapsed": true
   },
   "outputs": [],
   "source": [
    "# alternative solution\n",
    "def unique_in_order(iterable):\n",
    "    l = []\n",
    "    p = None\n",
    "    for i in iterable:\n",
    "        if i != p:\n",
    "            l.append(i)\n",
    "            p = i\n",
    "    return l"
   ]
  }
 ],
 "metadata": {
  "kernelspec": {
   "display_name": "Python 2",
   "language": "python",
   "name": "python2"
  },
  "language_info": {
   "codemirror_mode": {
    "name": "ipython",
    "version": 2
   },
   "file_extension": ".py",
   "mimetype": "text/x-python",
   "name": "python",
   "nbconvert_exporter": "python",
   "pygments_lexer": "ipython2",
   "version": "2.7.11"
  }
 },
 "nbformat": 4,
 "nbformat_minor": 0
}
