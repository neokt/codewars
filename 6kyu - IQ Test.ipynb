{
 "cells": [
  {
   "cell_type": "markdown",
   "metadata": {},
   "source": [
    "Codewars Challenge: [IQ Test](https://www.codewars.com/kata/iq-test/python)"
   ]
  },
  {
   "cell_type": "code",
   "execution_count": 79,
   "metadata": {
    "collapsed": false
   },
   "outputs": [],
   "source": [
    "# solution\n",
    "def iq_test(numbers):\n",
    "    l = []\n",
    "    for i in map(int, numbers.split()):\n",
    "        l.append('even') if i % 2 == 0 else l.append('odd')\n",
    "    return l.index('even') + 1 if l.count('even') == 1 else l.index('odd') + 1"
   ]
  },
  {
   "cell_type": "code",
   "execution_count": 85,
   "metadata": {
    "collapsed": false
   },
   "outputs": [],
   "source": [
    "# alternative solution\n",
    "def iq_test(numbers):\n",
    "    l = [int(i) % 2 for i in numbers.split()]\n",
    "    return l.index(0) + 1 if l.count(0) == 1 else l.index(1) + 1"
   ]
  }
 ],
 "metadata": {
  "kernelspec": {
   "display_name": "Python 2",
   "language": "python",
   "name": "python2"
  },
  "language_info": {
   "codemirror_mode": {
    "name": "ipython",
    "version": 2
   },
   "file_extension": ".py",
   "mimetype": "text/x-python",
   "name": "python",
   "nbconvert_exporter": "python",
   "pygments_lexer": "ipython2",
   "version": "2.7.11"
  }
 },
 "nbformat": 4,
 "nbformat_minor": 0
}
