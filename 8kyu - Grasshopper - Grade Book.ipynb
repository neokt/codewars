{
 "cells": [
  {
   "cell_type": "markdown",
   "metadata": {},
   "source": [
    "Codewars Challenge: [Grasshopper - Grade Book](https://www.codewars.com/kata/grasshopper-grade-book/python)"
   ]
  },
  {
   "cell_type": "code",
   "execution_count": 14,
   "metadata": {
    "collapsed": true
   },
   "outputs": [],
   "source": [
    "# solution\n",
    "def get_grade(s1, s2, s3):\n",
    "    m = (s1 + s2 + s3) / 3.0\n",
    "    if 90 <= m <= 100:\n",
    "        return \"A\"\n",
    "    elif 80 <= m < 90:\n",
    "        return \"B\"\n",
    "    elif 70 <= m < 80:\n",
    "        return \"C\"\n",
    "    elif 60 <= m < 70:\n",
    "        return \"D\"\n",
    "    else:\n",
    "        return \"F\""
   ]
  },
  {
   "cell_type": "code",
   "execution_count": null,
   "metadata": {
    "collapsed": true
   },
   "outputs": [],
   "source": [
    "# alternative solution\n",
    "def get_grade(s1, s2, s3):\n",
    "    return {6:'D', 7:'C', 8:'B', 9:'A', 10:'A'}.get((s1 + s2 + s3) / 30, 'F')"
   ]
  }
 ],
 "metadata": {
  "kernelspec": {
   "display_name": "Python 2",
   "language": "python",
   "name": "python2"
  },
  "language_info": {
   "codemirror_mode": {
    "name": "ipython",
    "version": 2
   },
   "file_extension": ".py",
   "mimetype": "text/x-python",
   "name": "python",
   "nbconvert_exporter": "python",
   "pygments_lexer": "ipython2",
   "version": "2.7.11"
  }
 },
 "nbformat": 4,
 "nbformat_minor": 0
}
