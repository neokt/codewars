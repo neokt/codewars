{
 "cells": [
  {
   "cell_type": "markdown",
   "metadata": {},
   "source": [
    "Codewars Challenge: [Vasya - Clerk](https://www.codewars.com/kata/vasya-clerk/python)"
   ]
  },
  {
   "cell_type": "code",
   "execution_count": 84,
   "metadata": {
    "collapsed": false
   },
   "outputs": [],
   "source": [
    "# solution\n",
    "def tickets(people):\n",
    "    change = {25: 0, 50: 0, 100: 0}  \n",
    "    for p in people:\n",
    "        change[p] += 1\n",
    "        if p == 100:\n",
    "            if change[50] == 0:\n",
    "                change[25] -= 3\n",
    "            else:\n",
    "                change[25] -= 1\n",
    "                change[50] -= 1\n",
    "        elif p == 50:\n",
    "            change[25] -= 1\n",
    "        \n",
    "        if change[25] < 0 or change[50] < 0: \n",
    "            return \"NO\"\n",
    "\n",
    "    return \"YES\""
   ]
  }
 ],
 "metadata": {
  "kernelspec": {
   "display_name": "Python 2",
   "language": "python",
   "name": "python2"
  },
  "language_info": {
   "codemirror_mode": {
    "name": "ipython",
    "version": 2
   },
   "file_extension": ".py",
   "mimetype": "text/x-python",
   "name": "python",
   "nbconvert_exporter": "python",
   "pygments_lexer": "ipython2",
   "version": "2.7.11"
  }
 },
 "nbformat": 4,
 "nbformat_minor": 0
}
