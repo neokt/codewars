{
 "cells": [
  {
   "cell_type": "markdown",
   "metadata": {},
   "source": [
    "Codewars Challenge: [Playing with Digits](https://www.codewars.com/kata/5552101f47fc5178b1000050)"
   ]
  },
  {
   "cell_type": "code",
   "execution_count": 92,
   "metadata": {
    "collapsed": false
   },
   "outputs": [],
   "source": [
    "# solution\n",
    "def dig_pow(n, p):\n",
    "    \n",
    "    # separate n into digits in a list\n",
    "    d = map(int, str(n))\n",
    "    \n",
    "    # initializing sum\n",
    "    series = 0\n",
    "    \n",
    "    # creating power series\n",
    "    for digit, power in zip(d, range(p, p + len(d))):\n",
    "        series += pow(digit, power)\n",
    "    \n",
    "    # series check for k \n",
    "    return series / n if series % n == 0 else -1"
   ]
  },
  {
   "cell_type": "code",
   "execution_count": 94,
   "metadata": {
    "collapsed": true
   },
   "outputs": [],
   "source": [
    "# alternative solution\n",
    "def dig_pow(n, p):\n",
    "    series = 0\n",
    "    for i, v in enumerate(str(n)):\n",
    "        series += pow(int(v), p+i)\n",
    "    return series / n if series % n == 0 else -1"
   ]
  }
 ],
 "metadata": {
  "kernelspec": {
   "display_name": "Python 2",
   "language": "python",
   "name": "python2"
  },
  "language_info": {
   "codemirror_mode": {
    "name": "ipython",
    "version": 2
   },
   "file_extension": ".py",
   "mimetype": "text/x-python",
   "name": "python",
   "nbconvert_exporter": "python",
   "pygments_lexer": "ipython2",
   "version": "2.7.11"
  }
 },
 "nbformat": 4,
 "nbformat_minor": 0
}
