{
 "cells": [
  {
   "cell_type": "markdown",
   "metadata": {},
   "source": [
    "Codewars Challenge: [Autocomplete! Yay!](https://www.codewars.com/kata/autocomplete-yay/python)"
   ]
  },
  {
   "cell_type": "code",
   "execution_count": 133,
   "metadata": {
    "collapsed": false
   },
   "outputs": [],
   "source": [
    "# solution\n",
    "def autocomplete(input_, dictionary):\n",
    "    alpha = filter(lambda x: x.isalpha(), input_).lower()\n",
    "    return filter(lambda x: x.lower().startswith(alpha), dictionary)[:5]"
   ]
  },
  {
   "cell_type": "code",
   "execution_count": 134,
   "metadata": {
    "collapsed": true
   },
   "outputs": [],
   "source": [
    "# alternative solution\n",
    "def autocomplete(input_, dictionary):\n",
    "    result = []\n",
    "    alpha = filter(lambda x: x.isalpha(), input_).lower()\n",
    "    for word in dictionary:\n",
    "        if word.lower().startswith(alpha):\n",
    "            result.append(word)\n",
    "    return result[:5]"
   ]
  },
  {
   "cell_type": "code",
   "execution_count": 141,
   "metadata": {
    "collapsed": true
   },
   "outputs": [],
   "source": [
    "# alternative solution\n",
    "def autocomplete(input_, dictionary):\n",
    "    alpha = filter(lambda x: x.isalpha(), input_).lower()\n",
    "    return [word for word in dictionary if word.lower().startswith(alpha)][:5]"
   ]
  }
 ],
 "metadata": {
  "kernelspec": {
   "display_name": "Python 2",
   "language": "python",
   "name": "python2"
  },
  "language_info": {
   "codemirror_mode": {
    "name": "ipython",
    "version": 2
   },
   "file_extension": ".py",
   "mimetype": "text/x-python",
   "name": "python",
   "nbconvert_exporter": "python",
   "pygments_lexer": "ipython2",
   "version": "2.7.11"
  }
 },
 "nbformat": 4,
 "nbformat_minor": 0
}
