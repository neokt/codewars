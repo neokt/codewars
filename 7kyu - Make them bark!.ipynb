{
 "cells": [
  {
   "cell_type": "markdown",
   "metadata": {},
   "source": [
    "Codewars Challenge: [Make them bark!](https://www.codewars.com/kata/make-them-bark/python)"
   ]
  },
  {
   "cell_type": "code",
   "execution_count": 11,
   "metadata": {
    "collapsed": true
   },
   "outputs": [],
   "source": [
    "# preloaded constructor\n",
    "class Dog(object):\n",
    "    def __init__(self, name, breed, sex, age):\n",
    "        self.name  = name\n",
    "        self.breed = breed\n",
    "        self.sex   = sex\n",
    "        self.age   = age"
   ]
  },
  {
   "cell_type": "code",
   "execution_count": 12,
   "metadata": {
    "collapsed": true
   },
   "outputs": [],
   "source": [
    "# solution\n",
    "def bark(self):\n",
    "    return 'Woof!'\n",
    "    \n",
    "Dog.bark = bark"
   ]
  }
 ],
 "metadata": {
  "kernelspec": {
   "display_name": "Python 2",
   "language": "python",
   "name": "python2"
  },
  "language_info": {
   "codemirror_mode": {
    "name": "ipython",
    "version": 2
   },
   "file_extension": ".py",
   "mimetype": "text/x-python",
   "name": "python",
   "nbconvert_exporter": "python",
   "pygments_lexer": "ipython2",
   "version": "2.7.11"
  }
 },
 "nbformat": 4,
 "nbformat_minor": 0
}
