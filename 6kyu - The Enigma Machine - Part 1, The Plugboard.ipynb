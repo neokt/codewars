{
 "cells": [
  {
   "cell_type": "markdown",
   "metadata": {},
   "source": [
    "Codewars Challenges: [The Enigma Machine - Part 1, The Plugboard](https://www.codewars.com/kata/the-enigma-machine-part-1-the-plugboard/python)"
   ]
  },
  {
   "cell_type": "code",
   "execution_count": 162,
   "metadata": {
    "collapsed": false
   },
   "outputs": [],
   "source": [
    "# solution\n",
    "from string import ascii_uppercase\n",
    "\n",
    "class Plugboard(object):\n",
    "    def __init__(self, wires = ''):\n",
    "        \"\"\"\n",
    "        wires: This is the mapping of pairs of characters\n",
    "        \"\"\"\n",
    "                \n",
    "        d = dict(zip(ascii_uppercase, [0] * 26))\n",
    "\n",
    "        if len(wires) > 20 or len(wires) != len(set(wires)) or len(wires) % 2 != 0:\n",
    "            raise ValueError('Invalid wire input')\n",
    "            \n",
    "        for i in d.iterkeys():\n",
    "            try:\n",
    "                if wires.index(i) % 2:\n",
    "                    d[i] = wires[wires.index(i) - 1]\n",
    "                else:\n",
    "                    d[i] = wires[wires.index(i) + 1]\n",
    "            except:\n",
    "                d[i] = i\n",
    "        \n",
    "        self.wires = d\n",
    "    \n",
    "    def process(self, c):\n",
    "        \"\"\"\n",
    "        c: The single character to process\n",
    "        \"\"\"\n",
    "        return self.wires.get(c, c)"
   ]
  },
  {
   "cell_type": "code",
   "execution_count": 169,
   "metadata": {
    "collapsed": false
   },
   "outputs": [],
   "source": [
    "# alternative solution\n",
    "class Plugboard(object):\n",
    "    def __init__(self, wires = ''):\n",
    "        \"\"\"\n",
    "        wires: This is the mapping of pairs of characters\n",
    "        \"\"\"\n",
    "        if len(wires) > 20 or len(wires) != len(set(wires)) or len(wires) % 2 != 0:\n",
    "            raise ValueError('Invalid wire input')\n",
    "            \n",
    "        self.wires = dict(zip(wires[::2], wires[1::2]) + zip(wires[1::2], wires[::2]))\n",
    "    \n",
    "    def process(self, c):\n",
    "        \"\"\"\n",
    "        c: The single character to process\n",
    "        \"\"\"\n",
    "        return self.wires.get(c, c)"
   ]
  }
 ],
 "metadata": {
  "kernelspec": {
   "display_name": "Python 2",
   "language": "python",
   "name": "python2"
  },
  "language_info": {
   "codemirror_mode": {
    "name": "ipython",
    "version": 2
   },
   "file_extension": ".py",
   "mimetype": "text/x-python",
   "name": "python",
   "nbconvert_exporter": "python",
   "pygments_lexer": "ipython2",
   "version": "2.7.11"
  }
 },
 "nbformat": 4,
 "nbformat_minor": 0
}
